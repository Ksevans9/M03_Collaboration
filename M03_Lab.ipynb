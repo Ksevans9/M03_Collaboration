{
 "cells": [
  {
   "cell_type": "code",
   "execution_count": 1,
   "id": "3988aadf",
   "metadata": {},
   "outputs": [
    {
     "name": "stdout",
     "output_type": "stream",
     "text": [
      "Type of vehicle :car\n",
      "Enter the year :2023\n",
      "Enter who manufacture :honda\n",
      "Enter the model :civic\n",
      "Enter the number of doors(2 or 4) :4\n",
      "solid or sun roof :sun roof\n",
      "\n",
      "Vehicle Type :car\n",
      "\n",
      "Year :2023\n",
      "\n",
      "Make :honda\n",
      "\n",
      "Model :civic\n",
      "\n",
      "No of doors :4\n",
      "\n",
      "Type of roof :sun roof\n"
     ]
    }
   ],
   "source": [
    "#KeShaundra Evans\n",
    "#6/25/2023\n",
    "#A super class called Vehicle, which contains an attribute for vehicle type, such as car, truck, plane, boat, or a broomstick.\n",
    "class Vehicle:\n",
    "    def __init__(item,type):  \n",
    "        item.type=type\n",
    "# adding a sub class called automoblie\n",
    "class Automobile(Vehicle):\n",
    "    def __init__(item,type,year,make,model,doors,roof):\n",
    "        super().__init__(type)\n",
    "        item.year=year\n",
    "        item.make=make\n",
    "        item.model=model\n",
    "        item.doors=doors\n",
    "        item.roof=roof\n",
    "#user can enter their vehicle information\n",
    "type_i=input(\"Type of vehicle :\")\n",
    "year_i=input(\"Enter the year :\")\n",
    "make_i=input(\"Enter who manufacture :\")\n",
    "model_i=input(\"Enter the model :\")\n",
    "doors_i=input(\"Enter the number of doors(2 or 4) :\")\n",
    "roof_i=input(\"solid or sun roof :\")\n",
    "Auto=Automobile(type_i,year_i,make_i,model_i,doors_i,roof_i) \n",
    "# then print the details\n",
    "print(\"\\nVehicle Type :\"+Auto.type)\n",
    "print(\"\\nYear :\"+Auto.year)\n",
    "print(\"\\nMake :\"+Auto.make)\n",
    "print(\"\\nModel :\"+Auto.model)\n",
    "print(\"\\nNo of doors :\"+Auto.doors)\n",
    "print(\"\\nType of roof :\"+Auto.roof)"
   ]
  },
  {
   "cell_type": "code",
   "execution_count": null,
   "id": "202d7016",
   "metadata": {},
   "outputs": [],
   "source": []
  }
 ],
 "metadata": {
  "kernelspec": {
   "display_name": "Python 3 (ipykernel)",
   "language": "python",
   "name": "python3"
  },
  "language_info": {
   "codemirror_mode": {
    "name": "ipython",
    "version": 3
   },
   "file_extension": ".py",
   "mimetype": "text/x-python",
   "name": "python",
   "nbconvert_exporter": "python",
   "pygments_lexer": "ipython3",
   "version": "3.9.13"
  }
 },
 "nbformat": 4,
 "nbformat_minor": 5
}
